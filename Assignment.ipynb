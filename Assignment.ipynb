{
 "cells": [
  {
   "cell_type": "code",
   "execution_count": 2,
   "id": "aa47c007-635b-43c8-a315-68fcd85c8151",
   "metadata": {},
   "outputs": [
    {
     "name": "stdin",
     "output_type": "stream",
     "text": [
      "enter a number 5\n"
     ]
    },
    {
     "name": "stdout",
     "output_type": "stream",
     "text": [
      "square25\n"
     ]
    }
   ],
   "source": [
    "a = eval(input(\"enter a number\"))\n",
    "sqare = a*a\n",
    "print(f'square{sqare}')"
   ]
  },
  {
   "cell_type": "code",
   "execution_count": 22,
   "id": "5980e24e-f85d-415a-86ca-062c35fedae5",
   "metadata": {},
   "outputs": [
    {
     "name": "stdin",
     "output_type": "stream",
     "text": [
      "enter a number 7\n"
     ]
    },
    {
     "name": "stdout",
     "output_type": "stream",
     "text": [
      "7---14---21---28---35\n"
     ]
    }
   ],
   "source": [
    "a = eval(input(\"enter a number\"))\n",
    "a1 = 1*a \n",
    "a2 = 2*a\n",
    "a3 = 3*a\n",
    "a4 = 4*a\n",
    "a5 = 5*a\n",
    "print(f\"{a1}\",end='---')\n",
    "print(f\"{a2}\",end='---')\n",
    "print(f\"{a3}\",end='---')\n",
    "print(f\"{a4}\",end='---')\n",
    "print(f\"{a5}\")\n"
   ]
  },
  {
   "cell_type": "code",
   "execution_count": 27,
   "id": "77639a50-28ce-44e1-84e3-6b92485a6ee4",
   "metadata": {},
   "outputs": [
    {
     "name": "stdin",
     "output_type": "stream",
     "text": [
      "enter weight 1\n"
     ]
    },
    {
     "name": "stdout",
     "output_type": "stream",
     "text": [
      " pound 2.2075055187637966\n"
     ]
    }
   ],
   "source": [
    "weight = eval(input(\"enter weight\"))\n",
    "pound = weight/0.453\n",
    "print(f' pound {pound}')"
   ]
  },
  {
   "cell_type": "code",
   "execution_count": 29,
   "id": "05c32834-b501-48f9-a653-dfdef69a9241",
   "metadata": {},
   "outputs": [
    {
     "name": "stdin",
     "output_type": "stream",
     "text": [
      "enter first number 2\n",
      "enter second number 3\n",
      "enter third number 4\n"
     ]
    },
    {
     "name": "stdout",
     "output_type": "stream",
     "text": [
      "sum 9,average3.0\n"
     ]
    }
   ],
   "source": [
    "a = eval(input(\"enter first number\"))\n",
    "b = eval(input(\"enter second number\"))\n",
    "c = eval(input(\"enter third number\"))\n",
    "sum = a+b+c\n",
    "avg = (a+b+c)/3\n",
    "print(f'sum {sum},average{avg}')\n"
   ]
  },
  {
   "cell_type": "code",
   "execution_count": 33,
   "id": "fd3a2167-f940-438f-9856-24fdda8d0474",
   "metadata": {},
   "outputs": [
    {
     "name": "stdin",
     "output_type": "stream",
     "text": [
      "enter meal amount 500\n",
      "tip amount 50\n"
     ]
    },
    {
     "name": "stdout",
     "output_type": "stream",
     "text": [
      " Total 550\n",
      "tip persantage 10.0\n"
     ]
    }
   ],
   "source": [
    "meal = eval(input(\"enter meal amount\"))\n",
    "tip = eval(input(\"tip amount\"))\n",
    "total = meal + tip\n",
    "tip_persantage = (tip/meal)*100\n",
    "print(f' Total {total}')\n",
    "print(f'tip persantage {tip_persantage}')"
   ]
  },
  {
   "cell_type": "code",
   "execution_count": 36,
   "id": "44e6ae85-85a0-4c3b-b34a-89979d8c840d",
   "metadata": {},
   "outputs": [
    {
     "name": "stdin",
     "output_type": "stream",
     "text": [
      "enter first number 10\n",
      "enter second number 5\n"
     ]
    },
    {
     "name": "stdout",
     "output_type": "stream",
     "text": [
      "additin 15,substraction 5,multipication 50,division 2.0\n"
     ]
    }
   ],
   "source": [
    "a = eval(input(\"enter first number\"))\n",
    "b = eval(input(\"enter second number\"))\n",
    "add = a+b\n",
    "sub = a-b\n",
    "mul = a*b\n",
    "div = a/b\n",
    "print(f'additin {add},substraction {sub},multipication {mul},division {div}')\n"
   ]
  },
  {
   "cell_type": "code",
   "execution_count": 37,
   "id": "5cebdbd2-ce8e-48fc-adfc-21f9fa3c2fa6",
   "metadata": {},
   "outputs": [
    {
     "name": "stdin",
     "output_type": "stream",
     "text": [
      "enter pi value 3.14\n",
      "enter radius 4\n"
     ]
    },
    {
     "name": "stdout",
     "output_type": "stream",
     "text": [
      "area of circle 50.24\n"
     ]
    }
   ],
   "source": [
    "pi = eval(input(\"enter pi value\"))\n",
    "r = eval(input(\"enter radius\"))\n",
    "area_of_circle = pi*r*r\n",
    "print(f'area of circle {area_of_circle}')\n"
   ]
  },
  {
   "cell_type": "code",
   "execution_count": 40,
   "id": "4d6e30ee-5b3f-4039-8686-5d9a652a8436",
   "metadata": {},
   "outputs": [
    {
     "name": "stdin",
     "output_type": "stream",
     "text": [
      "enter bill in doller 5\n"
     ]
    },
    {
     "name": "stdout",
     "output_type": "stream",
     "text": [
      "Doller into rupee 410\n"
     ]
    }
   ],
   "source": [
    "a = eval(input(\"enter bill in doller\"))\n",
    "rupee = a*82\n",
    "print(f'Doller into rupee {rupee}')"
   ]
  },
  {
   "cell_type": "code",
   "execution_count": 42,
   "id": "554ea361-cb10-45ce-8644-5bdba3f4c7df",
   "metadata": {},
   "outputs": [
    {
     "name": "stdin",
     "output_type": "stream",
     "text": [
      "enter height 4\n",
      "enter base 4\n"
     ]
    },
    {
     "name": "stdout",
     "output_type": "stream",
     "text": [
      "Area of trangle 8.0\n"
     ]
    }
   ],
   "source": [
    "h = eval(input(\"enter height\"))\n",
    "b = eval(input(\"enter base\"))\n",
    "area_of_trangle = 0.5*(b*h)\n",
    "print(f'Area of trangle {area_of_trangle}')"
   ]
  },
  {
   "cell_type": "code",
   "execution_count": 43,
   "id": "896c31a0-37c9-4aff-bf00-ada0b48ddd86",
   "metadata": {},
   "outputs": [
    {
     "name": "stdin",
     "output_type": "stream",
     "text": [
      "enter length 4\n",
      "enter breadth 5\n"
     ]
    },
    {
     "name": "stdout",
     "output_type": "stream",
     "text": [
      "Area of rectanle 20\n"
     ]
    }
   ],
   "source": [
    "l = eval(input(\"enter length\"))\n",
    "b = eval(input(\"enter breadth\"))\n",
    "area_of_rectangle = b*h\n",
    "print(f'Area of rectanle {area_of_rectangle}')"
   ]
  },
  {
   "cell_type": "code",
   "execution_count": 50,
   "id": "96cb4af3-a2d4-4813-baa9-e8d3acbcae8d",
   "metadata": {},
   "outputs": [
    {
     "name": "stdin",
     "output_type": "stream",
     "text": [
      "father: hey baby\n",
      "dauter: Hello daddy\n",
      "father: i heard your exams are over, What about result\n",
      "dauter: yes dad! Result are out\n",
      "father: what is the percentage\n",
      "dauter: i will give my subject wise marks , you tell me the percentage\n",
      "father: okay\n",
      "first language: 80\n",
      "second language: 80\n",
      "third language: 80\n",
      "science: 80\n",
      "maths: 80\n",
      "father: tell me the how much percentage \n",
      "dauter: 500\n",
      "enter max marks: 500\n"
     ]
    },
    {
     "name": "stdout",
     "output_type": "stream",
     "text": [
      "percentage 80.0\n"
     ]
    }
   ],
   "source": [
    "father = input(\"father:\")\n",
    "dauter = input(\"dauter:\")\n",
    "father = input(\"father:\")\n",
    "dauter = input(\"dauter:\")\n",
    "father = input(\"father:\")\n",
    "dauter = input(\"dauter:\")\n",
    "father = input(\"father:\")\n",
    "sub1 = eval(input(\"first language:\"))\n",
    "sub2 = eval(input(\"second language:\"))\n",
    "sub3 = eval(input(\"third language:\"))\n",
    "sub4 = eval(input(\"science:\"))\n",
    "sub5 = eval(input(\"maths:\"))\n",
    "father = input(\"father:\")\n",
    "dauter = input(\"dauter:\")\n",
    "max_marks = eval(input(\"enter max marks:\"))\n",
    "percentage = ((sub1+sub2+sub3+sub4+sub5)/500)*100\n",
    "print(f'percentage {percentage}')\n",
    "\n",
    "\n",
    "\n",
    "\n"
   ]
  },
  {
   "cell_type": "code",
   "execution_count": null,
   "id": "86371c5e-bd7b-4f50-8595-534111a80203",
   "metadata": {},
   "outputs": [],
   "source": []
  }
 ],
 "metadata": {
  "kernelspec": {
   "display_name": "Python 3 (ipykernel)",
   "language": "python",
   "name": "python3"
  },
  "language_info": {
   "codemirror_mode": {
    "name": "ipython",
    "version": 3
   },
   "file_extension": ".py",
   "mimetype": "text/x-python",
   "name": "python",
   "nbconvert_exporter": "python",
   "pygments_lexer": "ipython3",
   "version": "3.11.7"
  }
 },
 "nbformat": 4,
 "nbformat_minor": 5
}
