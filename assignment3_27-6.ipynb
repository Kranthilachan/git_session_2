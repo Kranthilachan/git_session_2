{
 "cells": [
  {
   "cell_type": "code",
   "execution_count": 1,
   "id": "be4e19b0-cd74-4bd2-a714-20a1ce7df75b",
   "metadata": {},
   "outputs": [
    {
     "name": "stdin",
     "output_type": "stream",
     "text": [
      "enter number 5\n"
     ]
    },
    {
     "name": "stdout",
     "output_type": "stream",
     "text": [
      "odd number\n"
     ]
    }
   ],
   "source": [
    "number = eval(input(\"enter number\"))\n",
    "if number%2==0:\n",
    "    print(\"even number\")\n",
    "else:\n",
    "    print(\"odd number\")"
   ]
  },
  {
   "cell_type": "code",
   "execution_count": 2,
   "id": "6cd29138-c369-4d38-ad4b-70a4c4e27571",
   "metadata": {},
   "outputs": [
    {
     "name": "stdout",
     "output_type": "stream",
     "text": [
      "91\n",
      "odd number\n"
     ]
    }
   ],
   "source": [
    "import random\n",
    "number = random.randint(1,100)\n",
    "print(number)\n",
    "if number%2==0:\n",
    "    print(\"even number\")\n",
    "else:\n",
    "    print(\"odd number\")"
   ]
  },
  {
   "cell_type": "code",
   "execution_count": 4,
   "id": "f7ad6b3b-d4dd-43d3-ae55-aad93bac1cb1",
   "metadata": {},
   "outputs": [
    {
     "name": "stdin",
     "output_type": "stream",
     "text": [
      "enter distance 45\n",
      "enter charge 2\n"
     ]
    },
    {
     "name": "stdout",
     "output_type": "stream",
     "text": [
      "90\n"
     ]
    }
   ],
   "source": [
    "distance = eval(input(\"enter distance\"))\n",
    "if distance>25:\n",
    "    charge = eval(input(\"enter charge\"))\n",
    "    total_cost = charge*distance\n",
    "    print(total_cost)\n",
    "else:\n",
    "    print(\"congrats it's free ride\")\n",
    "\n"
   ]
  },
  {
   "cell_type": "code",
   "execution_count": 6,
   "id": "7cb2dd06-f399-4e15-8ac7-0963915ceecf",
   "metadata": {},
   "outputs": [
    {
     "name": "stdin",
     "output_type": "stream",
     "text": [
      "enter distance 34\n"
     ]
    },
    {
     "name": "stdout",
     "output_type": "stream",
     "text": [
      "good news your charge is applicable for only remaining distance\n"
     ]
    },
    {
     "name": "stdin",
     "output_type": "stream",
     "text": [
      "enter charge 2\n"
     ]
    },
    {
     "name": "stdout",
     "output_type": "stream",
     "text": [
      "18\n"
     ]
    }
   ],
   "source": [
    "distance = eval(input(\"enter distance\"))\n",
    "cutoff_distance = 25\n",
    "if cutoff_distance<distance:\n",
    "    print(\"good news your charge is applicable for only remaining distance\")\n",
    "    chargefor_distance = distance-cutoff_distance\n",
    "    charge = eval(input(\"enter charge\"))\n",
    "    total_charge = chargefor_distance*charge\n",
    "    print(total_charge)\n",
    "else:\n",
    "    print(\"great news you have free ride\")\n",
    "    "
   ]
  },
  {
   "cell_type": "code",
   "execution_count": 12,
   "id": "d34e6dc9-fe3e-4693-b8ec-c6f451f15281",
   "metadata": {},
   "outputs": [
    {
     "name": "stdin",
     "output_type": "stream",
     "text": [
      "enter a course: datascience\n",
      "enter a institute: nareshit\n"
     ]
    },
    {
     "name": "stdout",
     "output_type": "stream",
     "text": [
      "good to go\n"
     ]
    }
   ],
   "source": [
    "course = input(\"enter a course:\")\n",
    "institute = input(\"enter a institute:\")\n",
    "if course == 'datascience' and institute == 'nareshit':\n",
    "    print(\"good to go\")\n",
    "else:\n",
    "    print(\"you are in wrong track in AI world\")"
   ]
  },
  {
   "cell_type": "code",
   "execution_count": 13,
   "id": "2fcbd3c8-2049-4d52-b8f6-8e32982d310e",
   "metadata": {},
   "outputs": [
    {
     "name": "stdin",
     "output_type": "stream",
     "text": [
      "enter a number 3\n"
     ]
    },
    {
     "name": "stdout",
     "output_type": "stream",
     "text": [
      "lost\n"
     ]
    }
   ],
   "source": [
    "import random\n",
    "a = random.randint(1,10)\n",
    "b = eval(input(\"enter a number\"))\n",
    "if a == b:\n",
    "    print(\"you won\")\n",
    "else:\n",
    "    print(\"lost\")"
   ]
  },
  {
   "cell_type": "code",
   "execution_count": 14,
   "id": "91f3c812-75ee-4fc5-ade4-713f4cea5569",
   "metadata": {},
   "outputs": [
    {
     "name": "stdin",
     "output_type": "stream",
     "text": [
      "enter a number 2\n"
     ]
    },
    {
     "name": "stdout",
     "output_type": "stream",
     "text": [
      "two\n"
     ]
    }
   ],
   "source": [
    "a = eval(input(\"enter a number\"))\n",
    "if a == 1 :\n",
    "    print(\"one\")\n",
    "elif a ==2 :\n",
    "    print(\"two\")\n",
    "elif a ==3 :\n",
    "    print(\"three\")\n",
    "else:\n",
    "    print(\"give proper number\")\n",
    "\n"
   ]
  },
  {
   "cell_type": "code",
   "execution_count": 15,
   "id": "01444e41-1dc0-454a-8ae5-46e72bafeaf4",
   "metadata": {},
   "outputs": [
    {
     "name": "stdin",
     "output_type": "stream",
     "text": [
      "enter nuber -3\n"
     ]
    },
    {
     "name": "stdout",
     "output_type": "stream",
     "text": [
      "negative number\n"
     ]
    }
   ],
   "source": [
    "a = eval(input(\"enter nuber\"))\n",
    "if a>0 :\n",
    "    print(\"positive number\")\n",
    "else:\n",
    "    print(\"negative number\")\n",
    "    "
   ]
  },
  {
   "cell_type": "code",
   "execution_count": 20,
   "id": "1844980c-39c9-443b-a95a-b32ffd1f3f4c",
   "metadata": {},
   "outputs": [
    {
     "name": "stdin",
     "output_type": "stream",
     "text": [
      "enter percentage 21\n"
     ]
    },
    {
     "name": "stdout",
     "output_type": "stream",
     "text": [
      "you need to study\n"
     ]
    }
   ],
   "source": [
    "institute = eval(input(\"enter percentage\"))\n",
    "if institute>90:\n",
    "    print(\"A grade\")\n",
    "elif institute>75:\n",
    "    print(\"B grade\")\n",
    "elif institute>50:\n",
    "    print(\"c grade\")\n",
    "elif institute>35:\n",
    "    print(\"D grade\")\n",
    "else:\n",
    "    print(\"you need to study\")\n",
    "    \n"
   ]
  },
  {
   "cell_type": "code",
   "execution_count": 22,
   "id": "b5c8c883-c9a5-47b2-85a2-57ebe5c72955",
   "metadata": {},
   "outputs": [
    {
     "name": "stdin",
     "output_type": "stream",
     "text": [
      "enter age: 45\n"
     ]
    },
    {
     "name": "stdout",
     "output_type": "stream",
     "text": [
      "middle age\n"
     ]
    }
   ],
   "source": [
    "age = int(input(\"enter age:\"))\n",
    "if age>100:\n",
    "    print(\"you are luckey\")\n",
    "elif age>75:\n",
    "    print(\"old age\")\n",
    "elif age>50:\n",
    "    print(\"senior sitezen\")\n",
    "elif age>30:\n",
    "    print(\"middle age\")\n",
    "elif age>15:\n",
    "    print(\"young age\")\n",
    "else:\n",
    "    print(\"your kid\")"
   ]
  },
  {
   "cell_type": "code",
   "execution_count": null,
   "id": "5f55f4d2-97ba-483c-96e1-71374566f755",
   "metadata": {},
   "outputs": [],
   "source": []
  }
 ],
 "metadata": {
  "kernelspec": {
   "display_name": "Python 3 (ipykernel)",
   "language": "python",
   "name": "python3"
  },
  "language_info": {
   "codemirror_mode": {
    "name": "ipython",
    "version": 3
   },
   "file_extension": ".py",
   "mimetype": "text/x-python",
   "name": "python",
   "nbconvert_exporter": "python",
   "pygments_lexer": "ipython3",
   "version": "3.11.7"
  }
 },
 "nbformat": 4,
 "nbformat_minor": 5
}
